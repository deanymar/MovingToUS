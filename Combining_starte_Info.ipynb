{
  "nbformat": 4,
  "nbformat_minor": 0,
  "metadata": {
    "colab": {
      "provenance": []
    },
    "kernelspec": {
      "name": "python3",
      "display_name": "Python 3"
    },
    "language_info": {
      "name": "python"
    }
  },
  "cells": [
    {
      "cell_type": "code",
      "execution_count": 32,
      "metadata": {
        "colab": {
          "base_uri": "https://localhost:8080/"
        },
        "id": "4mcEMS5tep9W",
        "outputId": "9ede59fe-4020-4c15-b0b7-e5c54fc99d22"
      },
      "outputs": [
        {
          "output_type": "stream",
          "name": "stdout",
          "text": [
            "Mounted at /content/drive\n",
            "books.csv\t     BX-Books.csv  ratings.csv\n",
            "BX-Book-Ratings.csv  BX-Users.csv  users.csv\n"
          ]
        }
      ],
      "source": [
        "import pandas as pd\n",
        "import openpyxl as xl\n",
        "from google.colab import drive,data_table\n",
        "drive.mount('/content/drive')\n",
        "!ls \"/content/drive/MyDrive/data/\""
      ]
    },
    {
      "cell_type": "code",
      "source": [
        "avg_nurse_salary = pd.read_csv('https://raw.githubusercontent.com/deanymar/MovingToUS/main/AvgNurseSalary.csv')\n",
        "state_facts = pd.read_csv('https://raw.githubusercontent.com/deanymar/MovingToUS/main/StateFacts.csv')\n",
        "best_states_to_raise_family = pd.read_csv('https://raw.githubusercontent.com/deanymar/MovingToUS/main/best-states-to-raise-a-family.csv')\n",
        "best_weather_by_state = pd.read_csv('https://raw.githubusercontent.com/deanymar/MovingToUS/main/best-weather-by-state.csv')\n",
        "compact_State = pd.read_csv('https://raw.githubusercontent.com/deanymar/MovingToUS/main/compactState.csv')\n",
        "cost_of_living_index_by_state=pd.read_csv('https://raw.githubusercontent.com/deanymar/MovingToUS/main/cost-of-living-index-by-state.csv')\n",
        "jobs_salary_data_analyst = pd.read_csv('https://raw.githubusercontent.com/deanymar/MovingToUS/main/jobs%26salary%20data%20analyst.csv')"
      ],
      "metadata": {
        "id": "I34zLDF4e2xK"
      },
      "execution_count": 40,
      "outputs": []
    },
    {
      "cell_type": "code",
      "source": [
        "##Creating dataframes dictionary for easier access\n",
        "dataframes = {'avg_nurse_salary':avg_nurse_salary,\n",
        "              'best_states_to_raise_family':best_states_to_raise_family,\n",
        "              'best_weather_by_state':best_weather_by_state,\n",
        "              'compact_State': compact_State,\n",
        "              'cost_of_living_index_by_state':cost_of_living_index_by_state,\n",
        "              'jobs_salary_data_analyst' : jobs_salary_data_analyst,\n",
        "              'state_facts' : state_facts}"
      ],
      "metadata": {
        "id": "18W9GU5AlQGO"
      },
      "execution_count": 41,
      "outputs": []
    },
    {
      "cell_type": "code",
      "source": [
        "##creates 1 excel file with all the information\n",
        "with pd.ExcelWriter('Combined_State_info.xlsx') as writer:\n",
        "     for d in dataframes:\n",
        "      dataframes[d].to_excel(writer, sheet_name=d,index = False)"
      ],
      "metadata": {
        "colab": {
          "base_uri": "https://localhost:8080/"
        },
        "id": "ZIZc7oZUk3T7",
        "outputId": "ed251c93-0af0-4d70-b819-89e06f7dad24"
      },
      "execution_count": 42,
      "outputs": [
        {
          "output_type": "stream",
          "name": "stderr",
          "text": [
            "Exception ignored in: <function ZipFile.__del__ at 0x78750a6b9870>\n",
            "Traceback (most recent call last):\n",
            "  File \"/usr/lib/python3.10/zipfile.py\", line 1821, in __del__\n",
            "    self.close()\n",
            "  File \"/usr/lib/python3.10/zipfile.py\", line 1838, in close\n",
            "    self.fp.seek(self.start_dir)\n",
            "ValueError: seek of closed file\n"
          ]
        }
      ]
    },
    {
      "cell_type": "code",
      "source": [
        "drive.flush_and_unmount()"
      ],
      "metadata": {
        "colab": {
          "base_uri": "https://localhost:8080/"
        },
        "id": "vjs0rqUse27w",
        "outputId": "131ffe41-21aa-4286-fba8-c8f424e3c939"
      },
      "execution_count": 39,
      "outputs": [
        {
          "output_type": "stream",
          "name": "stdout",
          "text": [
            "Drive not mounted, so nothing to flush and unmount.\n"
          ]
        }
      ]
    }
  ]
}